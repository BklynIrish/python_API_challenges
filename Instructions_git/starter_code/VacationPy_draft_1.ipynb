{
 "cells": [
  {
   "cell_type": "markdown",
   "metadata": {},
   "source": [
    "### Part II - VacationPy\n",
    "\n",
    "Now let's use your skills in working with weather data to plan future vacations. Use jupyter-gmaps and the Google Places API for this part of the assignment.\n",
    "\n",
    "* **Note:** if you having trouble displaying the maps try running `jupyter nbextension enable --py gmaps` in your environment and retry.\n",
    "\n",
    "* Create a heat map that displays the humidity for every city from the part I of the homework.\n",
    "\n",
    "  ![heatmap](Images/heatmap.png)\n",
    "\n",
    "* Narrow down the DataFrame to find your ideal weather condition. For example:\n",
    "\n",
    "  * A max temperature lower than 80 degrees but higher than 70.\n",
    "\n",
    "  * Wind speed less than 10 mph.\n",
    "\n",
    "  * Zero cloudiness.\n",
    "\n",
    "  * Drop any rows that don't contain all three conditions. You want to be sure the weather is ideal.\n",
    "\n",
    "  * **Note:** Feel free to adjust to your specifications but be sure to limit the number of rows returned by your API requests to a reasonable number.\n",
    "\n",
    "* Using Google Places API to find the first hotel for each city located within 5000 meters of your coordinates.\n",
    "\n",
    "* Plot the hotels on top of the humidity heatmap with each pin containing the **Hotel Name**, **City**, and **Country**.\n",
    "\n",
    "  ![hotel map](Images/hotel_map.png)\n",
    "\n",
    "As final considerations:\n",
    "\n",
    "* Create a new GitHub repository for this project called `API-Challenge` (note the kebab-case). **Do not add to an existing repo**\n",
    "* You must complete your analysis using a Jupyter notebook.\n",
    "* You must use the Matplotlib or Pandas plotting libraries.\n",
    "* For Part I, you must include a written description of three observable trends based on the data.\n",
    "* You must use proper labeling of your plots, including aspects like: Plot Titles (with date of analysis) and Axes Labels.\n",
    "* For max intensity in the heat map, try setting it to the highest humidity found in the data set.\n",
    "o\n",
    "## Hints and Considerations\n",
    "\n",
    "* The city data you generate is based on random coordinates as well as different query times; as such, your outputs will not be an exact match to the provided starter notebook.\n",
    "\n",
    "* You may want to start this assignment by refreshing yourself on the [geographic coordinate system](http://desktop.arcgis.com/en/arcmap/10.3/guide-books/map-projections/about-geographic-coordinate-systems.htm).\n",
    "\n",
    "* Next, spend the requisite time necessary to study the OpenWeatherMap API. Based on your initial study, you should be able to answer  basic questions about the API: Where do you request the API key? Which Weather API in particular will you need? What URL endpoints does it expect? What JSON structure does it respond with? Before you write a line of code, you should be aiming to have a crystal clear understanding of your intended outcome.\n",
    "\n",
    "* A starter code for Citipy has been provided. However, if you're craving an extra challenge, push yourself to learn how it works: [citipy Python library](https://pypi.python.org/pypi/citipy). Before you try to incorporate the library into your analysis, start by creating simple test cases outside your main script to confirm that you are using it correctly. Too often, when introduced to a new library, students get bogged down by the most minor of errors -- spending hours investigating their entire code -- when, in fact, a simple and focused test would have shown their basic utilization of the library was wrong from the start. Don't let this be you!\n",
    "\n",
    "* Part of our expectation in this challenge is that you will use critical thinking skills to understand how and why we're recommending the tools we are. What is Citipy for? Why would you use it in conjunction with the OpenWeatherMap API? How would you do so?\n",
    "\n",
    "* In building your script, pay attention to the cities you are using in your query pool. Are you getting coverage of the full gamut of latitudes and longitudes? Or are you simply choosing 500 cities concentrated in one region of the world? Even if you were a geographic genius, simply rattling 500 cities based on your human selection would create a biased dataset. Be thinking of how you should counter this. (Hint: Consider the full range of latitudes).\n",
    "\n",
    "* Once you have computed the linear regression for one chart, the process will be similar for all others. As a bonus, try to create a function that will create these charts based on different parameters.\n",
    "\n",
    "* Remember that each coordinate will trigger a separate call to the Google API. If you're creating your own criteria to plan your vacation, try to reduce the results in your DataFrame to 10 or fewer cities.\n",
    "\n",
    "* Lastly, remember -- this is a challenging activity. Push yourself! If you complete this task, then you can safely say that you've gained a strong mastery of the core foundations of data analytics and it will only go better from here. Good luck!\n",
    "\n",
    "### Copyright\n",
    "\n",
    "Trilogy Education Services © 2019. All Rights Reserved.\n",
    "\n",
    "\n",
    "\n",
    "# VacationPy\n",
    "----\n",
    "\n",
    "#### Note\n",
    "* Instructions have been included for each segment. You do not have to follow them exactly, but they are included to help you think through the steps."
   ]
  },
  {
   "cell_type": "code",
   "execution_count": 1,
   "metadata": {},
   "outputs": [],
   "source": [
    "# Dependencies and Setup\n",
    "import matplotlib.pyplot as plt\n",
    "import pandas as pd\n",
    "import numpy as np\n",
    "import requests\n",
    "import gmaps\n",
    "\n",
    "import csv\n",
    "import json\n",
    "import urllib\n",
    "\n",
    "# Import API key\n",
    "from api_keys import g_key"
   ]
  },
  {
   "cell_type": "markdown",
   "metadata": {},
   "source": [
    "### Store Part I results into DataFrame\n",
    "* Load the csv exported in Part I to a DataFrame"
   ]
  },
  {
   "cell_type": "code",
   "execution_count": 2,
   "metadata": {},
   "outputs": [],
   "source": [
    "# Store csv created in part one into a DataFrame\n",
    "city_data_df = pd.read_csv(\"clean_city_data.csv\")"
   ]
  },
  {
   "cell_type": "markdown",
   "metadata": {},
   "source": [
    "### Humidity Heatmap\n",
    "* Configure gmaps.\n",
    "* Use the Lat and Lng as locations and Humidity as the weight.\n",
    "* Add Heatmap layer to map."
   ]
  },
  {
   "cell_type": "code",
   "execution_count": 3,
   "metadata": {},
   "outputs": [
    {
     "data": {
      "text/html": [
       "<div>\n",
       "<style scoped>\n",
       "    .dataframe tbody tr th:only-of-type {\n",
       "        vertical-align: middle;\n",
       "    }\n",
       "\n",
       "    .dataframe tbody tr th {\n",
       "        vertical-align: top;\n",
       "    }\n",
       "\n",
       "    .dataframe thead th {\n",
       "        text-align: right;\n",
       "    }\n",
       "</style>\n",
       "<table border=\"1\" class=\"dataframe\">\n",
       "  <thead>\n",
       "    <tr style=\"text-align: right;\">\n",
       "      <th></th>\n",
       "      <th>City</th>\n",
       "      <th>Lat</th>\n",
       "      <th>Lng</th>\n",
       "      <th>Max Temp</th>\n",
       "      <th>Humidity</th>\n",
       "      <th>Cloudiness</th>\n",
       "      <th>Wind Speed</th>\n",
       "      <th>Country</th>\n",
       "      <th>Date</th>\n",
       "    </tr>\n",
       "  </thead>\n",
       "  <tbody>\n",
       "    <tr>\n",
       "      <th>0</th>\n",
       "      <td>ribeira grande</td>\n",
       "      <td>38.52</td>\n",
       "      <td>-28.70</td>\n",
       "      <td>73.40</td>\n",
       "      <td>69</td>\n",
       "      <td>40</td>\n",
       "      <td>5.82</td>\n",
       "      <td>PT</td>\n",
       "      <td>1595531217</td>\n",
       "    </tr>\n",
       "    <tr>\n",
       "      <th>1</th>\n",
       "      <td>mataura</td>\n",
       "      <td>-46.19</td>\n",
       "      <td>168.86</td>\n",
       "      <td>39.00</td>\n",
       "      <td>83</td>\n",
       "      <td>100</td>\n",
       "      <td>3.00</td>\n",
       "      <td>NZ</td>\n",
       "      <td>1595531217</td>\n",
       "    </tr>\n",
       "    <tr>\n",
       "      <th>2</th>\n",
       "      <td>apatity</td>\n",
       "      <td>67.56</td>\n",
       "      <td>33.40</td>\n",
       "      <td>58.39</td>\n",
       "      <td>82</td>\n",
       "      <td>77</td>\n",
       "      <td>9.04</td>\n",
       "      <td>RU</td>\n",
       "      <td>1595531217</td>\n",
       "    </tr>\n",
       "    <tr>\n",
       "      <th>3</th>\n",
       "      <td>hithadhoo</td>\n",
       "      <td>-0.60</td>\n",
       "      <td>73.08</td>\n",
       "      <td>83.43</td>\n",
       "      <td>68</td>\n",
       "      <td>100</td>\n",
       "      <td>3.00</td>\n",
       "      <td>MV</td>\n",
       "      <td>1595530941</td>\n",
       "    </tr>\n",
       "    <tr>\n",
       "      <th>4</th>\n",
       "      <td>rikitea</td>\n",
       "      <td>-23.12</td>\n",
       "      <td>-134.97</td>\n",
       "      <td>66.92</td>\n",
       "      <td>64</td>\n",
       "      <td>0</td>\n",
       "      <td>17.85</td>\n",
       "      <td>PF</td>\n",
       "      <td>1595531217</td>\n",
       "    </tr>\n",
       "    <tr>\n",
       "      <th>...</th>\n",
       "      <td>...</td>\n",
       "      <td>...</td>\n",
       "      <td>...</td>\n",
       "      <td>...</td>\n",
       "      <td>...</td>\n",
       "      <td>...</td>\n",
       "      <td>...</td>\n",
       "      <td>...</td>\n",
       "      <td>...</td>\n",
       "    </tr>\n",
       "    <tr>\n",
       "      <th>559</th>\n",
       "      <td>bambanglipuro</td>\n",
       "      <td>-7.95</td>\n",
       "      <td>110.28</td>\n",
       "      <td>74.16</td>\n",
       "      <td>87</td>\n",
       "      <td>100</td>\n",
       "      <td>8.95</td>\n",
       "      <td>ID</td>\n",
       "      <td>1595531254</td>\n",
       "    </tr>\n",
       "    <tr>\n",
       "      <th>560</th>\n",
       "      <td>umm lajj</td>\n",
       "      <td>25.02</td>\n",
       "      <td>37.27</td>\n",
       "      <td>91.49</td>\n",
       "      <td>44</td>\n",
       "      <td>3</td>\n",
       "      <td>7.63</td>\n",
       "      <td>SA</td>\n",
       "      <td>1595531012</td>\n",
       "    </tr>\n",
       "    <tr>\n",
       "      <th>561</th>\n",
       "      <td>sibolga</td>\n",
       "      <td>1.74</td>\n",
       "      <td>98.78</td>\n",
       "      <td>75.60</td>\n",
       "      <td>77</td>\n",
       "      <td>100</td>\n",
       "      <td>3.22</td>\n",
       "      <td>ID</td>\n",
       "      <td>1595531254</td>\n",
       "    </tr>\n",
       "    <tr>\n",
       "      <th>562</th>\n",
       "      <td>yar-sale</td>\n",
       "      <td>66.83</td>\n",
       "      <td>70.83</td>\n",
       "      <td>48.97</td>\n",
       "      <td>73</td>\n",
       "      <td>21</td>\n",
       "      <td>8.10</td>\n",
       "      <td>RU</td>\n",
       "      <td>1595531254</td>\n",
       "    </tr>\n",
       "    <tr>\n",
       "      <th>563</th>\n",
       "      <td>kontagora</td>\n",
       "      <td>10.40</td>\n",
       "      <td>5.47</td>\n",
       "      <td>75.27</td>\n",
       "      <td>89</td>\n",
       "      <td>70</td>\n",
       "      <td>1.83</td>\n",
       "      <td>NG</td>\n",
       "      <td>1595531254</td>\n",
       "    </tr>\n",
       "  </tbody>\n",
       "</table>\n",
       "<p>564 rows × 9 columns</p>\n",
       "</div>"
      ],
      "text/plain": [
       "               City    Lat     Lng  Max Temp  Humidity  Cloudiness  \\\n",
       "0    ribeira grande  38.52  -28.70     73.40        69          40   \n",
       "1           mataura -46.19  168.86     39.00        83         100   \n",
       "2           apatity  67.56   33.40     58.39        82          77   \n",
       "3         hithadhoo  -0.60   73.08     83.43        68         100   \n",
       "4           rikitea -23.12 -134.97     66.92        64           0   \n",
       "..              ...    ...     ...       ...       ...         ...   \n",
       "559   bambanglipuro  -7.95  110.28     74.16        87         100   \n",
       "560        umm lajj  25.02   37.27     91.49        44           3   \n",
       "561         sibolga   1.74   98.78     75.60        77         100   \n",
       "562        yar-sale  66.83   70.83     48.97        73          21   \n",
       "563       kontagora  10.40    5.47     75.27        89          70   \n",
       "\n",
       "     Wind Speed Country        Date  \n",
       "0          5.82      PT  1595531217  \n",
       "1          3.00      NZ  1595531217  \n",
       "2          9.04      RU  1595531217  \n",
       "3          3.00      MV  1595530941  \n",
       "4         17.85      PF  1595531217  \n",
       "..          ...     ...         ...  \n",
       "559        8.95      ID  1595531254  \n",
       "560        7.63      SA  1595531012  \n",
       "561        3.22      ID  1595531254  \n",
       "562        8.10      RU  1595531254  \n",
       "563        1.83      NG  1595531254  \n",
       "\n",
       "[564 rows x 9 columns]"
      ]
     },
     "execution_count": 3,
     "metadata": {},
     "output_type": "execute_result"
    }
   ],
   "source": [
    "city_data_df"
   ]
  },
  {
   "cell_type": "markdown",
   "metadata": {},
   "source": [
    "### Create new DataFrame fitting weather criteria\n",
    "* Narrow down the cities to fit weather conditions.\n",
    "* Drop any rows will null values."
   ]
  },
  {
   "cell_type": "code",
   "execution_count": 5,
   "metadata": {},
   "outputs": [
    {
     "name": "stdout",
     "output_type": "stream",
     "text": [
      "what is your preference for the lowest temperature you desire?70\n"
     ]
    }
   ],
   "source": [
    "lwr_bnd= float(input('what is your preference for the lowest temperature you desire?'))"
   ]
  },
  {
   "cell_type": "code",
   "execution_count": 6,
   "metadata": {},
   "outputs": [
    {
     "name": "stdout",
     "output_type": "stream",
     "text": [
      "What is the hottest temperature you prefer?79\n"
     ]
    }
   ],
   "source": [
    "uppr_bnd = float(input(\"What is the hottest temperature you prefer?\"))"
   ]
  },
  {
   "cell_type": "code",
   "execution_count": 7,
   "metadata": {},
   "outputs": [],
   "source": [
    "# we have to make a DataFrame fitting all three conditions that are aksed for so first off:\n",
    "# 1) we want a city with a temp <79 & > 70\n",
    "# 2) with a wind chill < 10 mph\n",
    "# 3) with zero Cloudiness so \n",
    "# I HAVE COMPILED CONDITIONS as weather_pref\n",
    "\n",
    "weather_pref = city_data_df[(city_data_df['Max Temp']< uppr_bnd) & (city_data_df['Max Temp']> lwr_bnd) & \n",
    "                            (city_data_df['Wind Speed'] < 10) & (city_data_df['Cloudiness'] == 0)]"
   ]
  },
  {
   "cell_type": "code",
   "execution_count": 8,
   "metadata": {},
   "outputs": [],
   "source": [
    "#configuring gmaps\n",
    "gmaps.configure(api_key=g_key)"
   ]
  },
  {
   "cell_type": "code",
   "execution_count": 9,
   "metadata": {},
   "outputs": [
    {
     "data": {
      "application/vnd.jupyter.widget-view+json": {
       "model_id": "3015a1d30dcb4fb6965883ebb074f1b8",
       "version_major": 2,
       "version_minor": 0
      },
      "text/plain": [
       "Figure(layout=FigureLayout(height='420px'))"
      ]
     },
     "metadata": {},
     "output_type": "display_data"
    },
    {
     "data": {
      "text/plain": [
       "<Figure size 432x288 with 0 Axes>"
      ]
     },
     "metadata": {},
     "output_type": "display_data"
    }
   ],
   "source": [
    "# Heatmap of temperature\n",
    "# Get the latitude and longitude.\n",
    "locations = weather_pref[[\"Lat\", \"Lng\"]]\n",
    "# Get the maximum temperature.\n",
    "# max_temp = city_data_df[\"Max Temp\"]\n",
    "# Assign the figure variable.\n",
    "fig = gmaps.figure(center=((39.837277,-74.088707)), zoom_level=1.5)\n",
    "# Assign the heatmap variable.\n",
    "heat_layer = gmaps.heatmap_layer(locations, weights= weather_pref[\"Max Temp\"])\n",
    "# Add the heatmap layer\n",
    "fig.add_layer(heat_layer)\n",
    "plt.savefig(('fig_weather_pref.png'))\n",
    "\n",
    "fig"
   ]
  },
  {
   "cell_type": "markdown",
   "metadata": {},
   "source": [
    "### Hotel Map\n",
    "* Store into variable named `hotel_df`.\n",
    "* Add a \"Hotel Name\" column to the DataFrame.\n",
    "* Set parameters to search for hotels with 5000 meters.\n",
    "* Hit the Google Places API for each city's coordinates.\n",
    "* Store the first Hotel result into the DataFrame.\n",
    "* Plot markers on top of the heatmap."
   ]
  },
  {
   "cell_type": "code",
   "execution_count": 10,
   "metadata": {},
   "outputs": [
    {
     "name": "stderr",
     "output_type": "stream",
     "text": [
      "/opt/anaconda3/lib/python3.7/site-packages/pandas/core/indexing.py:844: SettingWithCopyWarning: \n",
      "A value is trying to be set on a copy of a slice from a DataFrame.\n",
      "Try using .loc[row_indexer,col_indexer] = value instead\n",
      "\n",
      "See the caveats in the documentation: https://pandas.pydata.org/pandas-docs/stable/user_guide/indexing.html#returning-a-view-versus-a-copy\n",
      "  self.obj[key] = _infer_fill_value(value)\n",
      "/opt/anaconda3/lib/python3.7/site-packages/pandas/core/indexing.py:965: SettingWithCopyWarning: \n",
      "A value is trying to be set on a copy of a slice from a DataFrame.\n",
      "Try using .loc[row_indexer,col_indexer] = value instead\n",
      "\n",
      "See the caveats in the documentation: https://pandas.pydata.org/pandas-docs/stable/user_guide/indexing.html#returning-a-view-versus-a-copy\n",
      "  self.obj[item] = s\n"
     ]
    },
    {
     "name": "stdout",
     "output_type": "stream",
     "text": [
      "Hotel not found... skipping.\n"
     ]
    }
   ],
   "source": [
    "hotel_df = weather_pref\n",
    "\n",
    "# Search for a hotel using google parameterization, radius from destnation city with specific weather criteria\n",
    "params = {\"radius\": 5000,\n",
    "          \"type\": \"lodging\",\n",
    "          \"key\": g_key}\n",
    "\n",
    "\n",
    "# We have to iterate through all hotels found within hotel_df, so use indes  \n",
    "for index, row in hotel_df.iterrows():\n",
    "    # so we can get the location based of the hotel_df (latitude and longitude)\n",
    "    lat = row[\"Lat\"]\n",
    "    lng = row[\"Lng\"]\n",
    "    params[\"location\"] = f\"{lat},{lng}\"\n",
    "    # i looked up specifics on how to focus on hotels, which like phones or highway signs it oten says\n",
    "    #  \"lodging\" AND this helps us focus in on location via coordinates...using the methods we used in class acivities\n",
    "    # we search\n",
    "    base_url = \"https://maps.googleapis.com/maps/api/place/nearbysearch/json\"\n",
    "    # Then the search begins for \n",
    "    hotels = requests.get(base_url, params=params).json()\n",
    "    # Grab the first hotel from the results and store the name.\n",
    "    try:\n",
    "        hotel_df.loc[index, \"Hotel Name\"] = hotels[\"results\"][0][\"name\"]\n",
    "    except (IndexError):\n",
    "        print(\"Hotel not found... skipping.\")\n",
    "        "
   ]
  },
  {
   "cell_type": "code",
   "execution_count": 14,
   "metadata": {
    "scrolled": true
   },
   "outputs": [
    {
     "data": {
      "text/plain": [
       "<Figure size 432x288 with 0 Axes>"
      ]
     },
     "metadata": {},
     "output_type": "display_data"
    }
   ],
   "source": [
    "hotel_df\n",
    "plt.savefig('hotels.pdf')"
   ]
  },
  {
   "cell_type": "code",
   "execution_count": 20,
   "metadata": {},
   "outputs": [
    {
     "data": {
      "text/plain": [
       "(12, 10)"
      ]
     },
     "execution_count": 20,
     "metadata": {},
     "output_type": "execute_result"
    }
   ],
   "source": [
    "\n",
    "hotel_df.shape"
   ]
  },
  {
   "cell_type": "code",
   "execution_count": 24,
   "metadata": {},
   "outputs": [],
   "source": [
    "# NOTE: Do not change any of the code in this cell\n",
    "\n",
    "# Using the template add the hotel marks to the heatmap\n",
    "info_box_template = \"\"\"\n",
    "<dl>\n",
    "<dt>Name</dt><dd>{Hotel Name}</dd>\n",
    "<dt>City</dt><dd>{City}</dd>\n",
    "<dt>Country</dt><dd>{Country}</dd>\n",
    "</dl>\n",
    "\"\"\"\n",
    "# Store the DataFrame Row\n",
    "# NOTE: be sure to update with your DataFrame name\n",
    "hotel_info = [info_box_template.format(**row) for index, row in hotel_df.iterrows()]\n",
    "locations = hotel_df[[\"Lat\", \"Lng\"]]"
   ]
  },
  {
   "cell_type": "code",
   "execution_count": 25,
   "metadata": {},
   "outputs": [
    {
     "data": {
      "application/vnd.jupyter.widget-view+json": {
       "model_id": "3015a1d30dcb4fb6965883ebb074f1b8",
       "version_major": 2,
       "version_minor": 0
      },
      "text/plain": [
       "Figure(layout=FigureLayout(height='420px'))"
      ]
     },
     "metadata": {},
     "output_type": "display_data"
    },
    {
     "data": {
      "text/plain": [
       "<Figure size 432x288 with 0 Axes>"
      ]
     },
     "metadata": {},
     "output_type": "display_data"
    }
   ],
   "source": [
    "# marker_layer to include locations of hotels visually\n",
    "marker_layer = gmaps.marker_layer(locations, info_box_content=hotel_info)\n",
    "fig.add_layer(marker_layer)\n",
    "plt.savefig('fig_hotel_df.pdf')\n",
    "fig\n",
    "\n",
    "\n"
   ]
  },
  {
   "cell_type": "markdown",
   "metadata": {},
   "source": [
    "This Was Cool!!!!!"
   ]
  }
 ],
 "metadata": {
  "kernelspec": {
   "display_name": "Python 3",
   "language": "python",
   "name": "python3"
  },
  "language_info": {
   "codemirror_mode": {
    "name": "ipython",
    "version": 3
   },
   "file_extension": ".py",
   "mimetype": "text/x-python",
   "name": "python",
   "nbconvert_exporter": "python",
   "pygments_lexer": "ipython3",
   "version": "3.7.6"
  },
  "latex_envs": {
   "LaTeX_envs_menu_present": true,
   "autoclose": false,
   "autocomplete": true,
   "bibliofile": "biblio.bib",
   "cite_by": "apalike",
   "current_citInitial": 1,
   "eqLabelWithNumbers": true,
   "eqNumInitial": 1,
   "hotkeys": {
    "equation": "Ctrl-E",
    "itemize": "Ctrl-I"
   },
   "labels_anchors": false,
   "latex_user_defs": false,
   "report_style_numbering": false,
   "user_envs_cfg": false
  }
 },
 "nbformat": 4,
 "nbformat_minor": 2
}
